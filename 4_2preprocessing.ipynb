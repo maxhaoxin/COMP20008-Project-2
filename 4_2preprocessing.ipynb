{
 "cells": [
  {
   "cell_type": "code",
   "execution_count": 1,
   "id": "fe9ca0f2",
   "metadata": {},
   "outputs": [],
   "source": [
    "import os\n",
    "import pandas as pd\n",
    "import numpy as np"
   ]
  },
  {
   "cell_type": "markdown",
   "id": "9db1ec68",
   "metadata": {},
   "source": [
    "#### **Preparing Necessary Dataset and Function**"
   ]
  },
  {
   "cell_type": "code",
   "execution_count": 2,
   "id": "fcaea599",
   "metadata": {},
   "outputs": [],
   "source": [
    "accident_df = pd.read_csv('C:/Users/Asus/Downloads/COMP20008/datasets/accident.csv', usecols=[\n",
    "    'ACCIDENT_NO', 'SEVERITY','ACCIDENT_DATE',\n",
    "    'LIGHT_CONDITION', 'ROAD_GEOMETRY','ROAD_GEOMETRY_DESC','SPEED_ZONE','ACCIDENT_TIME'])\n",
    "\n",
    "atmospheric_df = pd.read_csv('C:/Users/Asus/Downloads/COMP20008/datasets/atmospheric_cond.csv', usecols=[\n",
    "    'ACCIDENT_NO','ATMOSPH_COND','ATMOSPH_COND_DESC'])\n",
    "\n",
    "road_df = pd.read_csv('C:/Users/Asus/Downloads/COMP20008/datasets/road_surface_cond.csv', usecols=[\n",
    "    'ACCIDENT_NO','SURFACE_COND', 'SURFACE_COND_DESC'])\n",
    "\n",
    "vehicle_df = pd.read_csv('C:/Users/Asus/Downloads/COMP20008/datasets/filtered_vehicle.csv', usecols=[\n",
    "    'ACCIDENT_NO','VEHICLE_YEAR_MANUF', 'VEHICLE_TYPE','TOTAL_NO_OCCUPANTS','ROAD_SURFACE_TYPE',\n",
    "    'TRAFFIC_CONTROL','TRAFFIC_CONTROL_DESC'])\n",
    "\n",
    "person_df = pd.read_csv('C:/Users/Asus/Downloads/COMP20008/datasets/person.csv', usecols=[\n",
    "    'ACCIDENT_NO', 'HELMET_BELT_WORN','AGE_GROUP','SEATING_POSITION'])\n",
    "\n",
    "accident_merged = accident_df.merge(atmospheric_df, on='ACCIDENT_NO', how='left').merge(road_df, on='ACCIDENT_NO', how='left')"
   ]
  },
  {
   "cell_type": "markdown",
   "id": "86ac3a10",
   "metadata": {},
   "source": [
    "*Defining Function*"
   ]
  },
  {
   "cell_type": "code",
   "execution_count": 3,
   "id": "97b17583",
   "metadata": {},
   "outputs": [],
   "source": [
    "# Defining custom manual MODE\n",
    "# Will be used in non-numeric columns\n",
    "def custom_mode(x):\n",
    "    m = x.mode()\n",
    "    return m.iloc[0] if not m.empty else None\n",
    "\n",
    "# Defining outlier detection function\n",
    "# Will be used in cleaned dataset\n",
    "def iqr_outliers(series):\n",
    "    Q1 = series.quantile(0.25)\n",
    "    Q3 = series.quantile(0.75)\n",
    "    IQR = Q3 - Q1\n",
    "    lower_bound = Q1 - 1.5 * IQR\n",
    "    upper_bound = Q3 + 1.5 * IQR\n",
    "    return series[(series < lower_bound) | (series > upper_bound)]"
   ]
  },
  {
   "cell_type": "markdown",
   "id": "c9ddad34",
   "metadata": {},
   "source": [
    "#### **Aggregating Vehicle Dataset**"
   ]
  },
  {
   "cell_type": "code",
   "execution_count": 4,
   "id": "e7d7a0eb",
   "metadata": {},
   "outputs": [],
   "source": [
    "## Aggregating Vehicle DataFrame\n",
    "\n",
    "accident_merged[\"ACCIDENT_YEAR\"] = pd.to_datetime(accident_merged[\"ACCIDENT_DATE\"]).dt.year\n",
    "vehicle_df = vehicle_df.merge(accident_merged[[\"ACCIDENT_NO\", \"ACCIDENT_YEAR\"]], on=\"ACCIDENT_NO\", how=\"left\")\n",
    "\n",
    "# Aggregate using MEDIAN for vehicle year manufactured and accident year\n",
    "med_v_yr = vehicle_df[\"VEHICLE_YEAR_MANUF\"].median()\n",
    "med_acc_yr = vehicle_df[\"ACCIDENT_YEAR\"].median()\n",
    "\n",
    "vehicle_df[\"VEHICLE_YEAR_MANUF\"] = vehicle_df[\"VEHICLE_YEAR_MANUF\"].fillna(med_v_yr)\n",
    "vehicle_df[\"ACCIDENT_YEAR\"] = vehicle_df[\"ACCIDENT_YEAR\"].fillna(med_acc_yr)\n",
    "\n",
    "\n",
    "# Computing vehicle age from accident year and vehicle year manufactured\n",
    "vehicle_df[\"VEHICLE_AGE\"] = vehicle_df[\"ACCIDENT_YEAR\"] - vehicle_df[\"VEHICLE_YEAR_MANUF\"]\n",
    "\n",
    "# Aggregating Vehicle Age and Total Occupant using median and sum\n",
    "v_agg = vehicle_df.groupby(\"ACCIDENT_NO\").agg({\n",
    "    \"VEHICLE_AGE\": \"median\",\n",
    "    \"TOTAL_NO_OCCUPANTS\": \"sum\"\n",
    "}).reset_index()\n",
    "\n",
    "# Aggregating Vehicle Type, Traffic Control, and Road Surface Type using custom MODE\n",
    "v_type = vehicle_df.groupby(\"ACCIDENT_NO\")[\"VEHICLE_TYPE\"].apply(custom_mode)\n",
    "trf_control = vehicle_df.groupby(\"ACCIDENT_NO\")[\"TRAFFIC_CONTROL\"].apply(custom_mode)\n",
    "rd_surf = vehicle_df.groupby(\"ACCIDENT_NO\")[\"ROAD_SURFACE_TYPE\"].apply(custom_mode)\n",
    "\n",
    "v_agg[\"VEHICLE_TYPE\"] = v_type.values\n",
    "v_agg[\"TRAFFIC_CONTROL\"] = trf_control.values\n",
    "v_agg[\"ROAD_SURFACE_TYPE\"] = rd_surf.values\n",
    "\n",
    "accident_merged = accident_merged.merge(v_agg, on=\"ACCIDENT_NO\", how=\"left\")\n"
   ]
  },
  {
   "cell_type": "markdown",
   "id": "76045ca7",
   "metadata": {},
   "source": [
    "#### **Aggregating Person Dataset**"
   ]
  },
  {
   "cell_type": "code",
   "execution_count": 5,
   "id": "ee32d52f",
   "metadata": {},
   "outputs": [],
   "source": [
    "# Replacing NA in SEATING_POSITION with NA_val\n",
    "# This is to treat actual NA value as valid value\n",
    "person_df[\"SEATING_POSITION\"] = person_df[\"SEATING_POSITION\"].fillna(\"NA_val\")\n",
    "\n",
    "# Aggregating age group, seating position and helmet/belt worn using custom MODE\n",
    "age_g = person_df.groupby(\"ACCIDENT_NO\")[\"AGE_GROUP\"].apply(custom_mode)\n",
    "seating = person_df.groupby(\"ACCIDENT_NO\")[\"SEATING_POSITION\"].apply(custom_mode)\n",
    "belt_helm = person_df.groupby(\"ACCIDENT_NO\")[\"HELMET_BELT_WORN\"].apply(custom_mode)\n",
    "\n",
    "# Aggregating Vehicle Type, Traffic Control, and Road Surface Type using custom MODE\n",
    "person_agg = pd.DataFrame({\n",
    "    \"AGE_GROUP\": age_g,\n",
    "    \"SEATING_POSITION\": seating,\n",
    "    \"HELMET_BELT_WORN\": belt_helm\n",
    "}).reset_index()\n",
    "\n",
    "accident_merged = accident_merged.merge(person_agg, on=\"ACCIDENT_NO\", how=\"left\")\n"
   ]
  },
  {
   "cell_type": "markdown",
   "id": "095eb790",
   "metadata": {},
   "source": [
    "#### **Cleaning Merged Dataset**"
   ]
  },
  {
   "cell_type": "markdown",
   "id": "d125d9ce",
   "metadata": {},
   "source": [
    "*Checking Unknown or NA values of new object type column*"
   ]
  },
  {
   "cell_type": "code",
   "execution_count": 6,
   "id": "a5c5dca5",
   "metadata": {},
   "outputs": [
    {
     "data": {
      "text/plain": [
       "array([nan,  1.,  4.,  2.,  3., 72., 71., 61., 62.,  5.,  8., 17.,  9.,\n",
       "       60., 10., 27., 20., 63., 99., 18.,  7.,  6.])"
      ]
     },
     "execution_count": 6,
     "metadata": {},
     "output_type": "execute_result"
    }
   ],
   "source": [
    "accident_merged['VEHICLE_TYPE'].unique()"
   ]
  },
  {
   "cell_type": "code",
   "execution_count": 7,
   "id": "8ec8693b",
   "metadata": {},
   "outputs": [
    {
     "data": {
      "text/plain": [
       "ACCIDENT_NO            object\n",
       "ACCIDENT_DATE          object\n",
       "ACCIDENT_TIME          object\n",
       "LIGHT_CONDITION         int64\n",
       "ROAD_GEOMETRY           int64\n",
       "ROAD_GEOMETRY_DESC     object\n",
       "SEVERITY                int64\n",
       "SPEED_ZONE              int64\n",
       "ATMOSPH_COND            int64\n",
       "ATMOSPH_COND_DESC      object\n",
       "SURFACE_COND            int64\n",
       "SURFACE_COND_DESC      object\n",
       "ACCIDENT_YEAR           int32\n",
       "VEHICLE_AGE           float64\n",
       "TOTAL_NO_OCCUPANTS    float64\n",
       "VEHICLE_TYPE          float64\n",
       "TRAFFIC_CONTROL       float64\n",
       "ROAD_SURFACE_TYPE     float64\n",
       "AGE_GROUP              object\n",
       "SEATING_POSITION       object\n",
       "HELMET_BELT_WORN      float64\n",
       "dtype: object"
      ]
     },
     "execution_count": 7,
     "metadata": {},
     "output_type": "execute_result"
    }
   ],
   "source": [
    "accident_merged.dtypes"
   ]
  },
  {
   "cell_type": "code",
   "execution_count": 8,
   "id": "9203ec7c",
   "metadata": {},
   "outputs": [
    {
     "name": "stdout",
     "output_type": "stream",
     "text": [
      "Column: LIGHT_CONDITION\n",
      "[1 2 3 4 5 6 9]\n",
      "Column: ROAD_GEOMETRY\n",
      "[1 2 3 4 5 6 7 8 9]\n",
      "Column: SPEED_ZONE\n",
      "[ 30  40  50  60  70  75  80  90 100 110 777 888 999]\n",
      "Column: ATMOSPH_COND\n",
      "[1 2 3 4 5 6 7 9]\n",
      "Column: SURFACE_COND\n",
      "[1 2 3 4 5 9]\n",
      "Column: VEHICLE_TYPE\n",
      "[ 1.  2.  3.  4.  5.  6.  7.  8.  9. 10. 17. 18. 20. 27. 60. 61. 62. 63.\n",
      " 71. 72. 99. nan]\n",
      "Column: TRAFFIC_CONTROL\n",
      "[ 0.  1.  2.  3.  4.  5.  6.  7.  8.  9. 10. 11. 12. 13. 14. 15. 99. nan]\n",
      "Column: ROAD_SURFACE_TYPE\n",
      "[ 1.  2.  3.  9. nan]\n",
      "Column: AGE_GROUP\n",
      "['0-4' '13-15' '16-17' '18-21' '22-25' '26-29' '30-39' '40-49' '5-12'\n",
      " '50-59' '60-64' '65-69' '70+' 'Unknown']\n",
      "Column: SEATING_POSITION\n",
      "['CF' 'CR' 'D' 'LF' 'LR' 'NA_val' 'NK' 'OR' 'PL' 'RR']\n",
      "Column: HELMET_BELT_WORN\n",
      "[1. 2. 3. 4. 5. 6. 7. 8. 9.]\n"
     ]
    }
   ],
   "source": [
    "categoric_col = ['LIGHT_CONDITION','ROAD_GEOMETRY','SPEED_ZONE','ATMOSPH_COND',\n",
    "                 'SURFACE_COND','VEHICLE_TYPE','TRAFFIC_CONTROL','ROAD_SURFACE_TYPE',\n",
    "                 'AGE_GROUP','SEATING_POSITION','HELMET_BELT_WORN']\n",
    "\n",
    "for i in range(len(categoric_col)):\n",
    "    print('Column: {}'.format(categoric_col[i]))\n",
    "    print(np.sort(accident_merged[categoric_col[i]].unique()))"
   ]
  },
  {
   "cell_type": "markdown",
   "id": "3aed4800",
   "metadata": {},
   "source": [
    "Based on the Victoria Police Report Documentation, there are some category such as Unknown, Not Available, Not Known that will be dropped so that our analysis and interpretation will be more comprehensive. Such categories are as follows."
   ]
  },
  {
   "cell_type": "code",
   "execution_count": 9,
   "id": "2687edef",
   "metadata": {},
   "outputs": [],
   "source": [
    "# Define filters for each column\n",
    "\n",
    "invalidLight = 9\n",
    "invalidRoadGeom = 9\n",
    "invalidSpeedZone = [777, 888, 999]\n",
    "invalidAtmCond = 9\n",
    "invalidSurfCond = 9\n",
    "invalidVehType = [17, 18, 27, 99]\n",
    "invalidTraffCont = [15, 99]\n",
    "invalidRoadSurf = 9\n",
    "invalidAgeGroup = 'Unknown'\n",
    "invalidSeating = [\"NA_val\", \"NK\"]\n",
    "invalidHelmetBelt = [8, 9]"
   ]
  },
  {
   "cell_type": "code",
   "execution_count": 10,
   "id": "a364a5b5",
   "metadata": {},
   "outputs": [],
   "source": [
    "# Apply all filters\n",
    "accident_clean = accident_merged[\n",
    "    (accident_merged[\"LIGHT_CONDITION\"] != invalidLight) &\n",
    "    (accident_merged[\"ROAD_GEOMETRY\"] != invalidRoadGeom) &\n",
    "    (~accident_merged[\"SPEED_ZONE\"].isin(invalidSpeedZone)) &\n",
    "    (accident_merged[\"ATMOSPH_COND\"] != invalidAtmCond) &\n",
    "    (accident_merged[\"SURFACE_COND\"] != invalidSurfCond) &\n",
    "    (~accident_merged[\"VEHICLE_TYPE\"].isin(invalidVehType)) &\n",
    "    (~accident_merged[\"TRAFFIC_CONTROL\"].isin(invalidTraffCont)) &\n",
    "    (accident_merged[\"ROAD_SURFACE_TYPE\"]!= invalidRoadSurf) &\n",
    "    (accident_merged[\"AGE_GROUP\"] != invalidAgeGroup) &\n",
    "    (~accident_merged[\"SEATING_POSITION\"].isin(invalidSeating)) &\n",
    "    (~accident_merged[\"HELMET_BELT_WORN\"].isin(invalidHelmetBelt)) &\n",
    "    accident_merged[\"VEHICLE_TYPE\"].notna() &\n",
    "    accident_merged[\"TRAFFIC_CONTROL\"].notna() &\n",
    "    accident_merged[\"ROAD_SURFACE_TYPE\"].notna()\n",
    "   ]"
   ]
  },
  {
   "cell_type": "code",
   "execution_count": 11,
   "id": "eb149573",
   "metadata": {},
   "outputs": [
    {
     "name": "stdout",
     "output_type": "stream",
     "text": [
      "Column: LIGHT_CONDITION\n",
      "[1 2 3 4 5 6]\n",
      "Column: ROAD_GEOMETRY\n",
      "[1 2 3 4 5 6 7 8]\n",
      "Column: SPEED_ZONE\n",
      "[ 30  40  50  60  70  75  80  90 100 110]\n",
      "Column: ATMOSPH_COND\n",
      "[1 2 3 4 5 6 7]\n",
      "Column: SURFACE_COND\n",
      "[1 2 3 4 5]\n",
      "Column: VEHICLE_TYPE\n",
      "[ 1.  2.  3.  4.  5.  6.  7.  8.  9. 10. 20. 60. 61. 62. 63. 71. 72.]\n",
      "Column: TRAFFIC_CONTROL\n",
      "[ 0.  1.  2.  3.  4.  5.  6.  7.  8.  9. 10. 11. 12. 13. 14.]\n",
      "Column: ROAD_SURFACE_TYPE\n",
      "[1. 2. 3.]\n",
      "Column: AGE_GROUP\n",
      "['0-4' '13-15' '16-17' '18-21' '22-25' '26-29' '30-39' '40-49' '5-12'\n",
      " '50-59' '60-64' '65-69' '70+']\n",
      "Column: SEATING_POSITION\n",
      "['CF' 'CR' 'D' 'LF' 'LR' 'OR' 'PL' 'RR']\n",
      "Column: HELMET_BELT_WORN\n",
      "[1. 2. 3. 4. 5. 6. 7.]\n"
     ]
    }
   ],
   "source": [
    "categoric_col = ['LIGHT_CONDITION','ROAD_GEOMETRY','SPEED_ZONE','ATMOSPH_COND',\n",
    "                 'SURFACE_COND','VEHICLE_TYPE','TRAFFIC_CONTROL','ROAD_SURFACE_TYPE',\n",
    "                 'AGE_GROUP','SEATING_POSITION','HELMET_BELT_WORN']\n",
    "\n",
    "for i in range(len(categoric_col)):\n",
    "    print('Column: {}'.format(categoric_col[i]))\n",
    "    print(np.sort(accident_clean[categoric_col[i]].unique()))"
   ]
  },
  {
   "cell_type": "code",
   "execution_count": 12,
   "id": "3b66ed31",
   "metadata": {},
   "outputs": [
    {
     "data": {
      "text/plain": [
       "(102302, 21)"
      ]
     },
     "execution_count": 12,
     "metadata": {},
     "output_type": "execute_result"
    }
   ],
   "source": [
    "accident_clean.shape"
   ]
  },
  {
   "cell_type": "code",
   "execution_count": 13,
   "id": "072b71aa",
   "metadata": {},
   "outputs": [],
   "source": [
    "accident_clean = accident_clean.copy()"
   ]
  },
  {
   "cell_type": "markdown",
   "id": "27089524",
   "metadata": {},
   "source": [
    "#### **Making New Mapping in Cleaned Dataset**"
   ]
  },
  {
   "cell_type": "markdown",
   "id": "25cb5704",
   "metadata": {},
   "source": [
    "*Making categorical features*"
   ]
  },
  {
   "cell_type": "code",
   "execution_count": 15,
   "id": "b5d976b7",
   "metadata": {},
   "outputs": [],
   "source": [
    "# Reversing Severity Mapping\n",
    "severity_ord = {4: 0, 3: 1, 2: 2, 1: 3}\n",
    "accident_clean.loc[:,'SEVERITY_ORD'] = accident_clean['SEVERITY'].map(severity_ord)\n",
    "\n",
    "# Ordinal Age Variable\n",
    "age_ord = {'0-4' : 0, '5-12' : 0,\n",
    "           '13-15' : 1, '16-17' : 1, '18-21' : 1,\n",
    "           '22-25' : 2, '26-29' : 2,\n",
    "           '30-39': 3,\n",
    "           '40-49': 4,\n",
    "           '50-59': 5,\n",
    "           '60-64' : 6, '65-69': 6,\n",
    "           '70+': 7}\n",
    "accident_clean.loc[:, 'AGE_ORD'] = accident_clean['AGE_GROUP'].map(age_ord)\n",
    "\n",
    "# Categorical Seating Map Variable\n",
    "seat_cat = { \"D\": 1, \"LF\": 2, \"CF\": 3,\n",
    "    \"OR\": 4, \"CR\": 5, \"LR\": 6, \"RR\": 7, \"PL\": 8}\n",
    "accident_clean.loc[:, \"SEAT_CATEGORY\"] = accident_clean[\"SEATING_POSITION\"].map(seat_cat)\n",
    "\n",
    "# Vehicle Type Category Remapping\n",
    "veh_cat = { 10: 1, 20: 1,                   # 2-wheelers\n",
    "           1: 2, 2: 2, 3: 2, 4: 2, 5: 2,    # 4-wheelers \n",
    "           8: 3, 9: 3,                      # Buses\n",
    "           6: 4, 7: 4, 60: 4, 61: 4,        # Heavy vehicle\n",
    "           62: 4, 63: 4, 71: 4, 72: 4}\n",
    "accident_clean.loc[:, \"VEHICLE_TYPE_CAT\"] = accident_clean[\"VEHICLE_TYPE\"].map(veh_cat)\n",
    "\n",
    "# Mapping Accident Time\n",
    "accident_clean['ACCIDENT_TIME']=pd.to_datetime(accident_clean['ACCIDENT_TIME'],format='%H:%M:%S').dt.time\n",
    "\n",
    "accident_clean['TIME_OF_DAY'] = ''\n",
    "accident_clean.loc[(accident_clean['ACCIDENT_TIME'] >= pd.to_datetime(\"06:00:00\").time()) & (accident_clean['ACCIDENT_TIME'] <= pd.to_datetime(\"11:59:59\").time()), 'TIME_OF_DAY'] = 1\n",
    "accident_clean.loc[(accident_clean['ACCIDENT_TIME'] >= pd.to_datetime(\"12:00:00\").time()) & (accident_clean['ACCIDENT_TIME'] <= pd.to_datetime(\"17:59:59\").time()), 'TIME_OF_DAY'] = 2\n",
    "accident_clean.loc[(accident_clean['ACCIDENT_TIME'] >= pd.to_datetime(\"18:00:00\").time()) & (accident_clean['ACCIDENT_TIME'] <= pd.to_datetime(\"23:59:59\").time()), 'TIME_OF_DAY'] = 3\n",
    "accident_clean.loc[(accident_clean['ACCIDENT_TIME'] >= pd.to_datetime(\"00:00:00\").time()) & (accident_clean['ACCIDENT_TIME'] <= pd.to_datetime(\"05:59:59\").time()), 'TIME_OF_DAY'] = 4"
   ]
  },
  {
   "cell_type": "markdown",
   "id": "64bf2f13",
   "metadata": {},
   "source": [
    "*Making binary from each categorical features*"
   ]
  },
  {
   "cell_type": "code",
   "execution_count": 16,
   "id": "035ead76",
   "metadata": {},
   "outputs": [],
   "source": [
    "# Mapping Binary Severity\n",
    "severity_bin = {0: 0, 1: 0, 2: 0, 3: 1}\n",
    "accident_clean[\"SEVERITY_BINARY\"] = accident_clean[\"SEVERITY_ORD\"].map(severity_bin)\n",
    "\n",
    "# Binary Road Surface\n",
    "surf_bin = {\"Dry\": 0, \"Wet\": 1, \"Icy\": 1, \"Muddy\": 1, \"Snowy\": 1}\n",
    "accident_clean.loc[:, \"SURFACE_COND_BINARY\"] = accident_clean[\"SURFACE_COND_DESC\"].map(surf_bin)\n",
    "\n",
    "# Binary Atmospheric Condition\n",
    "atm_bin = { \"Clear\": 0, \"Raining\": 1, \"Strong winds\": 1,\n",
    "    \"Fog\": 1, \"Dust\": 1, \"Smoke\": 1, \"Snowing\": 1}\n",
    "accident_clean.loc[:, \"ATMOSPH_COND_BINARY\"] = accident_clean[\"ATMOSPH_COND_DESC\"].map(atm_bin)\n",
    "\n",
    "# Binary Seating Map Variable\n",
    "seat_bin = {\"OR\" : 0, \"CR\" : 0, \"LR\" : 0, \"RR\" : 0, \"PL\": 0,\n",
    "            \"D\" : 1, \"LF\" : 1, \"CF\": 1}\n",
    "accident_clean.loc[:, 'SEAT_BINARY'] = accident_clean['SEATING_POSITION'].map(seat_bin)\n",
    "\n",
    "# Binary Seatbelt / Helmet\n",
    "belthelm_bin = {1: 0, 3: 0, 6: 0,\n",
    "                2: 1, 4: 1, 5: 1, 7: 1}\n",
    "accident_clean.loc[:, 'HELMET_BELT_BINARY'] = accident_clean['HELMET_BELT_WORN'].map(belthelm_bin)\n",
    "\n",
    "# Binary Traffic Control\n",
    "traffic_bin = { 1: 0, 2: 0, 4: 0, 5: 0, 6: 0, 7: 0, 9: 0, 10: 0, 11: 0, 12: 0, 14: 0,\n",
    "               0: 1, 3: 1, 8: 1, 13: 1}\n",
    "accident_clean['TRAFFIC_CONTROL_BINARY'] = accident_clean['TRAFFIC_CONTROL'].map(traffic_bin)\n",
    "\n",
    "# Binary Intersection\n",
    "geometry_bin = {5: 0, 6: 0, 7: 0, 8: 0,\n",
    "                1: 1, 2: 1, 3: 1, 4: 1}\n",
    "accident_clean['ROAD_GEOMETRY_BINARY'] = accident_clean['ROAD_GEOMETRY'].map(geometry_bin)\n",
    "\n",
    "# Binary Light\n",
    "light_bin = {1: 0, 2: 0, 3: 0,\n",
    "             4: 1, 5: 1, 6: 1}\n",
    "accident_clean['LIGHT_CONDITION_BINARY'] = accident_clean['LIGHT_CONDITION'].map(light_bin)\n",
    "\n",
    "# Binary Speed Zone\n",
    "light_bin = {30: 0, 40: 0, 50: 0, 60: 0,\n",
    "             70: 1, 75: 1, 80: 1,\n",
    "             90: 1, 100: 1, 110: 1}\n",
    "accident_clean['SPEED_ZONE_BINARY'] = accident_clean['SPEED_ZONE'].map(light_bin)\n",
    "\n",
    "# Vehicle Type Binary Remapping\n",
    "veh_bin = { 1: 0, 2: 0,         # 2 and 4 wheelers light\n",
    "           3: 1, 4: 1, 5: 1     # >4 heavy vehicle\n",
    "           }\n",
    "accident_clean.loc[:, \"VEHICLE_TYPE_BINARY\"] = accident_clean[\"VEHICLE_TYPE_CAT\"].map(veh_bin)"
   ]
  },
  {
   "cell_type": "markdown",
   "id": "0133f10f",
   "metadata": {},
   "source": [
    "*Making weather risk scoring based on road surface and atmospheric condition*"
   ]
  },
  {
   "cell_type": "code",
   "execution_count": 17,
   "id": "87cec474",
   "metadata": {},
   "outputs": [],
   "source": [
    "# Road Risk Scoring\n",
    "surface_risk = { \"Dry\": 0, \"Wet\": 1,  \"Muddy\": 2, \"Icy\": 3, \"Snowy\": 3}\n",
    "accident_clean.loc[:, \"SURFACE_COND_RISK\"] = accident_clean[\"SURFACE_COND_DESC\"].map(surface_risk)\n",
    "\n",
    "# Atmospheric Risk Scoring\n",
    "atm_risk = { \"Clear\": 0, \"Raining\": 1, \"Strong winds\": 1,\n",
    "    \"Fog\": 2, \"Dust\": 2, \"Smoke\": 2, \"Snowing\": 3}\n",
    "accident_clean.loc[:, \"ATMOSPH_COND_RISK\"] = accident_clean[\"ATMOSPH_COND_DESC\"].map(atm_risk)\n",
    "\n",
    "# Weather Risk Scoring\n",
    "accident_clean.loc[:, \"WEATHER_RISK\"] = \\\n",
    "    accident_clean[\"SURFACE_COND_RISK\"] + accident_clean[\"ATMOSPH_COND_RISK\"]"
   ]
  },
  {
   "cell_type": "markdown",
   "id": "ea990fb9",
   "metadata": {},
   "source": [
    "*Normalizing Continuous/Numeric Variable*"
   ]
  },
  {
   "cell_type": "code",
   "execution_count": 18,
   "id": "abc6b21e",
   "metadata": {},
   "outputs": [],
   "source": [
    "# Normalize Vehicle Age\n",
    "accident_clean[\"VEHICLE_AGE_NORM\"] = (\n",
    "    accident_clean[\"VEHICLE_AGE\"] - accident_clean[\"VEHICLE_AGE\"].min()\n",
    ") / (accident_clean[\"VEHICLE_AGE\"].max() - accident_clean[\"VEHICLE_AGE\"].min())\n",
    "\n",
    "# Normalize Occupant\n",
    "accident_clean[\"TOTAL_OCCUPANTS_NORM\"] = (\n",
    "    accident_clean[\"TOTAL_NO_OCCUPANTS\"] - accident_clean[\"TOTAL_NO_OCCUPANTS\"].min()\n",
    ") / (accident_clean[\"TOTAL_NO_OCCUPANTS\"].max() - accident_clean[\"TOTAL_NO_OCCUPANTS\"].min())"
   ]
  },
  {
   "cell_type": "markdown",
   "id": "6eea5859",
   "metadata": {},
   "source": [
    "*Counting Outlier from Normalized Features*"
   ]
  },
  {
   "cell_type": "code",
   "execution_count": 19,
   "id": "723ee37e",
   "metadata": {},
   "outputs": [
    {
     "name": "stdout",
     "output_type": "stream",
     "text": [
      "Outlier counts in normalized vehicle age is: 1157\n",
      "Outlier counts in normalized total occupants is: 2194\n"
     ]
    }
   ],
   "source": [
    "# Detecting Outlier\n",
    "out_age = iqr_outliers(accident_clean[\"VEHICLE_AGE_NORM\"])\n",
    "print(\"Outlier counts in normalized vehicle age is:\", out_age.count())\n",
    "\n",
    "out_occupant = iqr_outliers(accident_clean[\"TOTAL_OCCUPANTS_NORM\"])\n",
    "print(\"Outlier counts in normalized total occupants is:\", out_occupant.count())"
   ]
  },
  {
   "cell_type": "code",
   "execution_count": 20,
   "id": "693c3a39",
   "metadata": {},
   "outputs": [
    {
     "data": {
      "text/plain": [
       "Index(['ACCIDENT_NO', 'ACCIDENT_DATE', 'ACCIDENT_TIME', 'LIGHT_CONDITION',\n",
       "       'ROAD_GEOMETRY', 'ROAD_GEOMETRY_DESC', 'SEVERITY', 'SPEED_ZONE',\n",
       "       'ATMOSPH_COND', 'ATMOSPH_COND_DESC', 'SURFACE_COND',\n",
       "       'SURFACE_COND_DESC', 'ACCIDENT_YEAR', 'VEHICLE_AGE',\n",
       "       'TOTAL_NO_OCCUPANTS', 'VEHICLE_TYPE', 'TRAFFIC_CONTROL',\n",
       "       'ROAD_SURFACE_TYPE', 'AGE_GROUP', 'SEATING_POSITION',\n",
       "       'HELMET_BELT_WORN', 'SEVERITY_ORD', 'AGE_ORD', 'SEAT_CATEGORY',\n",
       "       'VEHICLE_TYPE_CAT', 'TIME_OF_DAY', 'SEVERITY_BINARY',\n",
       "       'SURFACE_COND_BINARY', 'ATMOSPH_COND_BINARY', 'SEAT_BINARY',\n",
       "       'HELMET_BELT_BINARY', 'TRAFFIC_CONTROL_BINARY', 'ROAD_GEOMETRY_BINARY',\n",
       "       'LIGHT_CONDITION_BINARY', 'SPEED_ZONE_BINARY', 'VEHICLE_TYPE_BINARY',\n",
       "       'SURFACE_COND_RISK', 'ATMOSPH_COND_RISK', 'WEATHER_RISK',\n",
       "       'VEHICLE_AGE_NORM', 'TOTAL_OCCUPANTS_NORM'],\n",
       "      dtype='object')"
      ]
     },
     "execution_count": 20,
     "metadata": {},
     "output_type": "execute_result"
    }
   ],
   "source": [
    "accident_clean.columns"
   ]
  },
  {
   "cell_type": "code",
   "execution_count": 21,
   "id": "ebbb3ac4",
   "metadata": {},
   "outputs": [
    {
     "data": {
      "text/plain": [
       "ACCIDENT_NO               0\n",
       "ACCIDENT_DATE             0\n",
       "ACCIDENT_TIME             0\n",
       "LIGHT_CONDITION           0\n",
       "ROAD_GEOMETRY             0\n",
       "ROAD_GEOMETRY_DESC        0\n",
       "SEVERITY                  0\n",
       "SPEED_ZONE                0\n",
       "ATMOSPH_COND              0\n",
       "ATMOSPH_COND_DESC         0\n",
       "SURFACE_COND              0\n",
       "SURFACE_COND_DESC         0\n",
       "ACCIDENT_YEAR             0\n",
       "VEHICLE_AGE               0\n",
       "TOTAL_NO_OCCUPANTS        0\n",
       "VEHICLE_TYPE              0\n",
       "TRAFFIC_CONTROL           0\n",
       "ROAD_SURFACE_TYPE         0\n",
       "AGE_GROUP                 0\n",
       "SEATING_POSITION          0\n",
       "HELMET_BELT_WORN          0\n",
       "SEVERITY_ORD              0\n",
       "AGE_ORD                   0\n",
       "SEAT_CATEGORY             0\n",
       "VEHICLE_TYPE_CAT          0\n",
       "TIME_OF_DAY               0\n",
       "SEVERITY_BINARY           0\n",
       "SURFACE_COND_BINARY       0\n",
       "ATMOSPH_COND_BINARY       0\n",
       "SEAT_BINARY               0\n",
       "HELMET_BELT_BINARY        0\n",
       "TRAFFIC_CONTROL_BINARY    0\n",
       "ROAD_GEOMETRY_BINARY      0\n",
       "LIGHT_CONDITION_BINARY    0\n",
       "SPEED_ZONE_BINARY         0\n",
       "VEHICLE_TYPE_BINARY       0\n",
       "SURFACE_COND_RISK         0\n",
       "ATMOSPH_COND_RISK         0\n",
       "WEATHER_RISK              0\n",
       "VEHICLE_AGE_NORM          0\n",
       "TOTAL_OCCUPANTS_NORM      0\n",
       "dtype: int64"
      ]
     },
     "execution_count": 21,
     "metadata": {},
     "output_type": "execute_result"
    }
   ],
   "source": [
    "accident_clean.isna().sum()"
   ]
  },
  {
   "cell_type": "code",
   "execution_count": 22,
   "id": "79409a9c",
   "metadata": {},
   "outputs": [],
   "source": [
    "accident_clean.to_csv('C:/Users/Asus/Downloads/COMP20008/datasets/accident_clean.csv', index=False)"
   ]
  },
  {
   "cell_type": "code",
   "execution_count": 23,
   "id": "993189e7",
   "metadata": {},
   "outputs": [
    {
     "data": {
      "text/plain": [
       "ACCIDENT_NO                object\n",
       "ACCIDENT_DATE              object\n",
       "ACCIDENT_TIME              object\n",
       "LIGHT_CONDITION             int64\n",
       "ROAD_GEOMETRY               int64\n",
       "ROAD_GEOMETRY_DESC         object\n",
       "SEVERITY                    int64\n",
       "SPEED_ZONE                  int64\n",
       "ATMOSPH_COND                int64\n",
       "ATMOSPH_COND_DESC          object\n",
       "SURFACE_COND                int64\n",
       "SURFACE_COND_DESC          object\n",
       "ACCIDENT_YEAR               int32\n",
       "VEHICLE_AGE               float64\n",
       "TOTAL_NO_OCCUPANTS        float64\n",
       "VEHICLE_TYPE              float64\n",
       "TRAFFIC_CONTROL           float64\n",
       "ROAD_SURFACE_TYPE         float64\n",
       "AGE_GROUP                  object\n",
       "SEATING_POSITION           object\n",
       "HELMET_BELT_WORN          float64\n",
       "SEVERITY_ORD                int64\n",
       "AGE_ORD                     int64\n",
       "SEAT_CATEGORY               int64\n",
       "VEHICLE_TYPE_CAT            int64\n",
       "TIME_OF_DAY                object\n",
       "SEVERITY_BINARY             int64\n",
       "SURFACE_COND_BINARY         int64\n",
       "ATMOSPH_COND_BINARY         int64\n",
       "SEAT_BINARY                 int64\n",
       "HELMET_BELT_BINARY          int64\n",
       "TRAFFIC_CONTROL_BINARY      int64\n",
       "ROAD_GEOMETRY_BINARY        int64\n",
       "LIGHT_CONDITION_BINARY      int64\n",
       "SPEED_ZONE_BINARY           int64\n",
       "VEHICLE_TYPE_BINARY         int64\n",
       "SURFACE_COND_RISK           int64\n",
       "ATMOSPH_COND_RISK           int64\n",
       "WEATHER_RISK                int64\n",
       "VEHICLE_AGE_NORM          float64\n",
       "TOTAL_OCCUPANTS_NORM      float64\n",
       "dtype: object"
      ]
     },
     "execution_count": 23,
     "metadata": {},
     "output_type": "execute_result"
    }
   ],
   "source": [
    "accident_clean.dtypes"
   ]
  },
  {
   "cell_type": "code",
   "execution_count": null,
   "id": "36fa8aba",
   "metadata": {},
   "outputs": [],
   "source": []
  }
 ],
 "metadata": {
  "kernelspec": {
   "display_name": "base",
   "language": "python",
   "name": "python3"
  },
  "language_info": {
   "codemirror_mode": {
    "name": "ipython",
    "version": 3
   },
   "file_extension": ".py",
   "mimetype": "text/x-python",
   "name": "python",
   "nbconvert_exporter": "python",
   "pygments_lexer": "ipython3",
   "version": "3.12.7"
  }
 },
 "nbformat": 4,
 "nbformat_minor": 5
}
